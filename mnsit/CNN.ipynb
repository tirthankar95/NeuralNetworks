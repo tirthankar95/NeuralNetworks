{
 "cells": [
  {
   "cell_type": "code",
   "execution_count": 39,
   "metadata": {},
   "outputs": [],
   "source": [
    "import numpy as np \n",
    "import matplotlib.pyplot as plt \n",
    "import pandas as pd\n",
    "import torch\n",
    "import torch.nn as nn\n",
    "import torch.optim as optim \n",
    "import gzip\n",
    "import json"
   ]
  },
  {
   "cell_type": "markdown",
   "metadata": {},
   "source": [
    "## DONWLOAD MNSIT & VISUALIZE DATA\n",
    "**Content**\n",
    "\n",
    "The MNIST database of handwritten digits has a training set of 60,000 examples, and a test set of 10,000 examples. .\n",
    "\n",
    "Four files are available:\n",
    ">\n",
    "\n",
    "    train-images-idx3-ubyte.gz: training set images (9912422 bytes)\n",
    "    train-labels-idx1-ubyte.gz: training set labels (28881 bytes)\n",
    "    t10k-images-idx3-ubyte.gz: test set images (1648877 bytes)\n",
    "    t10k-labels-idx1-ubyte.gz: test set labels (4542 bytes)\n"
   ]
  },
  {
   "cell_type": "code",
   "execution_count": 26,
   "metadata": {},
   "outputs": [
    {
     "name": "stdout",
     "output_type": "stream",
     "text": [
      "  % Total    % Received % Xferd  Average Speed   Time    Time     Time  Current\n",
      "                                 Dload  Upload   Total   Spent    Left  Speed\n",
      "100 9680k  100 9680k    0     0  15.1M      0 --:--:-- --:--:-- --:--:-- 15.1M\n",
      "  % Total    % Received % Xferd  Average Speed   Time    Time     Time  Current\n",
      "                                 Dload  Upload   Total   Spent    Left  Speed\n",
      "100 28881  100 28881    0     0   107k      0 --:--:-- --:--:-- --:--:--  107k\n",
      "  % Total    % Received % Xferd  Average Speed   Time    Time     Time  Current\n",
      "                                 Dload  Upload   Total   Spent    Left  Speed\n",
      "100 1610k  100 1610k    0     0  4441k      0 --:--:-- --:--:-- --:--:-- 4448k\n",
      "  % Total    % Received % Xferd  Average Speed   Time    Time     Time  Current\n",
      "                                 Dload  Upload   Total   Spent    Left  Speed\n",
      "100  4542  100  4542    0     0  23817      0 --:--:-- --:--:-- --:--:-- 23905\n"
     ]
    }
   ],
   "source": [
    "!curl -O http://yann.lecun.com/exdb/mnist/train-images-idx3-ubyte.gz\n",
    "!curl -O http://yann.lecun.com/exdb/mnist/train-labels-idx1-ubyte.gz\n",
    "!curl -O http://yann.lecun.com/exdb/mnist/t10k-images-idx3-ubyte.gz\n",
    "!curl -O http://yann.lecun.com/exdb/mnist/t10k-labels-idx1-ubyte.gz"
   ]
  },
  {
   "cell_type": "code",
   "execution_count": 3,
   "metadata": {},
   "outputs": [],
   "source": [
    "image_size, num_tr_images, num_test_images = 28, 60000, 10000\n",
    "out_size = 10"
   ]
  },
  {
   "cell_type": "markdown",
   "metadata": {},
   "source": [
    "### TRAIN"
   ]
  },
  {
   "cell_type": "code",
   "execution_count": 4,
   "metadata": {},
   "outputs": [
    {
     "data": {
      "text/plain": [
       "<matplotlib.image.AxesImage at 0x7f55b7a44bd0>"
      ]
     },
     "execution_count": 4,
     "metadata": {},
     "output_type": "execute_result"
    },
    {
     "data": {
      "image/png": "[encoded data removed]",
      "text/plain": [
       "<Figure size 640x480 with 1 Axes>"
      ]
     },
     "metadata": {},
     "output_type": "display_data"
    }
   ],
   "source": [
    "img_id = 2\n",
    "\n",
    "# Label\n",
    "f= gzip.open('train-labels-idx1-ubyte.gz')\n",
    "f.read(8) # This line removes the header information.\n",
    "buf = f.read(num_tr_images)\n",
    "data = np.frombuffer(buf, dtype=np.uint8).astype(np.int32)\n",
    "Ytr = np.zeros(shape = (num_tr_images, out_size))\n",
    "for id, dat in enumerate(data):\n",
    "    Ytr[id][dat] = 1\n",
    "Ytr = torch.tensor(Ytr)\n",
    "\n",
    "# Image\n",
    "f = gzip.open('train-images-idx3-ubyte.gz')\n",
    "f.read(16) # This line removes the header information.\n",
    "buf = f.read(image_size * image_size * num_tr_images)\n",
    "Xtr = np.frombuffer(buf, dtype=np.uint8).astype(np.float32)\n",
    "Xtr = Xtr.reshape(num_tr_images, image_size, image_size, 1)\n",
    "image = np.asarray(Xtr[img_id]).squeeze()\n",
    "Xtr = Xtr.transpose((0,3,1,2)) / 255\n",
    "Xtr = torch.tensor(Xtr)\n",
    "\n",
    "# Print\n",
    "plt.title(f'The number is: {Ytr[img_id]}')\n",
    "plt.imshow(image)\n"
   ]
  },
  {
   "cell_type": "markdown",
   "metadata": {},
   "source": [
    "### TEST"
   ]
  },
  {
   "cell_type": "code",
   "execution_count": 32,
   "metadata": {},
   "outputs": [
    {
     "data": {
      "text/plain": [
       "<matplotlib.image.AxesImage at 0x7f559f2db9d0>"
      ]
     },
     "execution_count": 32,
     "metadata": {},
     "output_type": "execute_result"
    },
    {
     "data": {
      "image/png": "[encoded data removed]",
      "text/plain": [
       "<Figure size 640x480 with 1 Axes>"
      ]
     },
     "metadata": {},
     "output_type": "display_data"
    }
   ],
   "source": [
    "img_id = 100\n",
    "\n",
    "# Label\n",
    "f= gzip.open('t10k-labels-idx1-ubyte.gz')\n",
    "f.read(8) # This line removes the header information.\n",
    "buf = f.read(num_test_images)\n",
    "data = np.frombuffer(buf, dtype=np.uint8).astype(np.int32)\n",
    "Ytest = data\n",
    "\n",
    "# Image\n",
    "f = gzip.open('t10k-images-idx3-ubyte.gz')\n",
    "f.read(16) # This line removes the header information.\n",
    "buf = f.read(image_size * image_size * num_test_images)\n",
    "Xtest = np.frombuffer(buf, dtype=np.uint8).astype(np.float32)\n",
    "Xtest = Xtest.reshape(num_test_images, image_size, image_size, 1)\n",
    "image = np.asarray(Xtest[img_id]).squeeze()\n",
    "Xtest = Xtest.transpose((0,3,1,2)) / 255\n",
    "Xtest = torch.tensor(Xtest)\n",
    "\n",
    "# Print\n",
    "plt.title(f'The number is: {Ytest[img_id]}')\n",
    "plt.imshow(image)"
   ]
  },
  {
   "cell_type": "markdown",
   "metadata": {},
   "source": [
    "## CREATING NN CLASS"
   ]
  },
  {
   "cell_type": "code",
   "execution_count": 58,
   "metadata": {},
   "outputs": [],
   "source": [
    "class mnist_net(nn.Module):\n",
    "    def __init__(self, img_sz, out_size):\n",
    "        super(mnist_net, self).__init__()\n",
    "        self.img_sz = img_sz\n",
    "        # CNN \n",
    "        cnn_channels = [32, 64, 128]\n",
    "        self.cnn_layers = [ \n",
    "                                [\n",
    "                                    nn.Conv2d(in_channels = 1, out_channels = cnn_channels[0], kernel_size = 3, padding = 1),\n",
    "                                    nn.ReLU(),\n",
    "                                    nn.BatchNorm2d(num_features = cnn_channels[0]),\n",
    "                                    nn.MaxPool2d(kernel_size = 2, stride = 2)\n",
    "                                ],\n",
    "                                [\n",
    "                                    nn.Conv2d(in_channels = cnn_channels[0], out_channels = cnn_channels[1], kernel_size = 3, padding = 1),\n",
    "                                    nn.ReLU(),\n",
    "                                    nn.BatchNorm2d(num_features = cnn_channels[1]),\n",
    "                                    nn.MaxPool2d(kernel_size = 2, stride = 2)\n",
    "                                ],\n",
    "                                [\n",
    "                                    nn.Conv2d(in_channels = cnn_channels[1], out_channels = cnn_channels[2], kernel_size = 3, padding = 1),\n",
    "                                    nn.ReLU(),\n",
    "                                    nn.BatchNorm2d(num_features = cnn_channels[2]),\n",
    "                                    nn.MaxPool2d(kernel_size = 2, stride = 2)\n",
    "                                ],\n",
    "                          ]\n",
    "        # DNN \n",
    "        hidden_size = 1024\n",
    "        out_x, x = None, torch.randn(1,1,*img_sz)\n",
    "        for cnn_layer in self.cnn_layers:\n",
    "            for i in range(len(cnn_layer)):\n",
    "                out_x = cnn_layer[i](x)\n",
    "                x = out_x\n",
    "        out_x = out_x.view(out_x.shape[0], -1) # FLATTEN\n",
    "        ip_sz = out_x.shape\n",
    "        self.dnn_layers = [\n",
    "                                [\n",
    "                                    nn.Linear(in_features = ip_sz[-1], out_features = hidden_size), \n",
    "                                    nn.BatchNorm1d(num_features = hidden_size),\n",
    "                                    nn.ReLU()\n",
    "                                ],\n",
    "                                [\n",
    "                                    nn.Linear(in_features = hidden_size, out_features = out_size), \n",
    "                                    nn.Softmax(dim = 1)\n",
    "                                ]\n",
    "\n",
    "                            ]\n",
    "        \n",
    "    def forward(self, x):\n",
    "        output = x \n",
    "        # CNN \n",
    "        for cnn_layer in self.cnn_layers:\n",
    "            for i in range(len(cnn_layer)):\n",
    "                output_tmp = cnn_layer[i](output)\n",
    "                output = output_tmp\n",
    "        # FLATTEN \n",
    "        output = output.view(output.shape[0], -1)\n",
    "        # DNN \n",
    "        for dnn_layer in self.dnn_layers:\n",
    "            for i in range(len(dnn_layer)):\n",
    "                output_tmp = dnn_layer[i](output)\n",
    "                output = output_tmp\n",
    "        return output \n",
    "    \n",
    "    def test_model(self):\n",
    "        num_images = 1024\n",
    "        x = torch.randn(num_images, 1, 28, 28)\n",
    "        print(f'Input Shape: {x.shape}')\n",
    "        res = self.forward(x)\n",
    "        print(f'Output Shape: {res.shape}')\n",
    "    \n",
    "    def add_optimizer(self):\n",
    "        # CNN \n",
    "        lr_param = []\n",
    "        for cnn_layer in self.cnn_layers:\n",
    "            for i in range(len(cnn_layer)):\n",
    "                lr_param += list(cnn_layer[i].parameters()) \n",
    "        for dnn_layer in self.dnn_layers:\n",
    "            for i in range(len(dnn_layer)):\n",
    "                lr_param += list(dnn_layer[i].parameters())\n",
    "        optimizer = optim.Adam(lr_param)\n",
    "        return optimizer\n",
    "\n",
    "    def save_model(self, id):\n",
    "        cnn_lr_param = []\n",
    "        for cnn_layer in self.cnn_layers:\n",
    "            for i in range(len(cnn_layer)):\n",
    "                cnn_lr_param += list(cnn_layer[i].parameters()) \n",
    "        dnn_lr_param = []\n",
    "        for dnn_layer in self.dnn_layers:\n",
    "            for i in range(len(dnn_layer)):\n",
    "                dnn_lr_param += list(dnn_layer[i].parameters())\n",
    "        print('SAVING MODEL...')\n",
    "        torch.save(cnn_lr_param,  f'model/model_cnn{id}.ml')\n",
    "        torch.save(dnn_lr_param, f'model/model_dnn{id}.ml')\n",
    "        return [f'model/model_cnn{id}.ml', f'model/model_dnn{id}.ml']\n",
    "        \n",
    "    def load_model(self, name):\n",
    "        print('LOADING MODEL...')\n",
    "        wt_list = torch.load(f'{name[0]}')\n",
    "        for cnn_layer in self.cnn_layers:\n",
    "            for i in range(len(cnn_layer)):\n",
    "                cnn_layer[i].weight = wt_list[i]\n",
    "        wt_list = torch.load(f'{name[1]}')\n",
    "        for dnn_layer in self.dnn_layers:\n",
    "            for i in range(len(dnn_layer)):\n",
    "                dnn_layer[i].weight = wt_list[i] "
   ]
  },
  {
   "cell_type": "markdown",
   "metadata": {},
   "source": [
    "## TESTING YOUR NN"
   ]
  },
  {
   "cell_type": "code",
   "execution_count": 24,
   "metadata": {},
   "outputs": [
    {
     "name": "stdout",
     "output_type": "stream",
     "text": [
      "Input Shape: torch.Size([1024, 1, 28, 28])\n",
      "Output Shape: torch.Size([1024, 10])\n"
     ]
    }
   ],
   "source": [
    "obj = mnist_net(img_sz = (28,28), out_size = 10)\n",
    "obj.test_model()"
   ]
  },
  {
   "cell_type": "markdown",
   "metadata": {},
   "source": [
    "## TRAIN YOUR MODEL"
   ]
  },
  {
   "cell_type": "code",
   "execution_count": 25,
   "metadata": {},
   "outputs": [],
   "source": [
    "batch_size = 128\n",
    "epochs = 10 \n",
    "train_val_split = 0.8\n",
    "model = mnist_net(img_sz = (28, 28), out_size = 10)\n",
    "optimizer = model.add_optimizer()\n",
    "criterion = nn.CrossEntropyLoss()\n",
    "\n",
    "# Shuffle data \n",
    "index = np.arange(Xtr.shape[0])\n",
    "np.random.shuffle(index)\n",
    "Xtr = Xtr[index]\n",
    "Ytr = Ytr[index]\n",
    "\n",
    "# Split data into train: validation\n",
    "tr_len = int(Xtr.shape[0] * train_val_split)\n",
    "Xtr, Xval = Xtr[:tr_len], Xtr[tr_len:]\n",
    "Ytr, Yval = Ytr[:tr_len], Ytr[tr_len:]"
   ]
  },
  {
   "cell_type": "code",
   "execution_count": 26,
   "metadata": {},
   "outputs": [],
   "source": [
    "# Validation function\n",
    "def validate(model, Xval, Yval):\n",
    "    model.eval()\n",
    "    with torch.no_grad():\n",
    "        lb, r_loss = 0, 0\n",
    "        val_batch_size = 256\n",
    "        criterion = nn.CrossEntropyLoss() \n",
    "        while lb + batch_size < Xval.shape[0]:\n",
    "            Yp_val = model(Xval[lb: lb+val_batch_size])\n",
    "            r_loss += criterion(Yp_val, Yval[lb: lb+val_batch_size]).item()\n",
    "            lb += val_batch_size\n",
    "        if lb < Xval.shape[0]:\n",
    "            Yp_val = model(Xval[lb:])\n",
    "            r_loss += criterion(Yp_val, Yval[lb:]).item()\n",
    "        return r_loss / Xval.shape[0]"
   ]
  },
  {
   "cell_type": "code",
   "execution_count": 27,
   "metadata": {},
   "outputs": [
    {
     "name": "stdout",
     "output_type": "stream",
     "text": [
      "Epoch[0] ~ AvgLoss[0.011749322352140249]\n",
      "Epoch[1] ~ AvgLoss[0.011533572372506266]\n",
      "Epoch[2] ~ AvgLoss[0.011496490546384545]\n",
      "Epoch[3] ~ AvgLoss[0.01147463231166815]\n",
      "Epoch[4] ~ AvgLoss[0.011463344303380533]\n",
      "Epoch[5] ~ AvgLoss[0.011459896379680383]\n",
      "Epoch[6] ~ AvgLoss[0.011457904396502272]\n",
      "Epoch[7] ~ AvgLoss[0.011450358149037736]\n",
      "Epoch[8] ~ AvgLoss[0.0114442826172611]\n",
      "Epoch[9] ~ AvgLoss[0.011441446718830168]\n"
     ]
    }
   ],
   "source": [
    "# TRAIN LOOP\n",
    "tr_loss = []\n",
    "val_loss = []\n",
    "\n",
    "for epoch in range(epochs):\n",
    "    lb, r_loss = 0, 0 \n",
    "    while lb + batch_size < Xtr.shape[0]:\n",
    "        Yp = model(Xtr[lb: lb+batch_size])\n",
    "        optimizer.zero_grad()\n",
    "        loss = criterion(Yp, Ytr[lb: lb+batch_size])\n",
    "        loss.backward()\n",
    "        optimizer.step()\n",
    "        r_loss += loss.item()\n",
    "        lb += batch_size\n",
    "    if lb < Xtr.shape[0]:\n",
    "        Yp = model(Xtr[lb:])\n",
    "        optimizer.zero_grad()\n",
    "        loss = criterion(Yp, Ytr[lb:])\n",
    "        loss.backward()\n",
    "        optimizer.step()\n",
    "        r_loss += loss.item()\n",
    "        tr_loss.append(r_loss/Xtr.shape[0])\n",
    "    val_loss.append(validate(model, Xval, Yval))\n",
    "    print(f'Epoch[{epoch}] ~ AvgLoss[{tr_loss[-1]}]')\n"
   ]
  },
  {
   "cell_type": "markdown",
   "metadata": {},
   "source": [
    "## Saving and Loading Model"
   ]
  },
  {
   "cell_type": "code",
   "execution_count": 34,
   "metadata": {},
   "outputs": [],
   "source": [
    "paths = model.save_model(id = 0)\n",
    "model.load_model(paths)"
   ]
  },
  {
   "cell_type": "markdown",
   "metadata": {},
   "source": [
    "## Testing Model."
   ]
  },
  {
   "cell_type": "code",
   "execution_count": 33,
   "metadata": {},
   "outputs": [
    {
     "name": "stdout",
     "output_type": "stream",
     "text": [
      "Test Accuracy [99.05]\n"
     ]
    }
   ],
   "source": [
    "with torch.no_grad():\n",
    "    Yp_test = model(Xtest)\n",
    "    labels = torch.argmax(Yp_test, dim = 1)\n",
    "    acc = 0 \n",
    "    for id, label in enumerate(labels):\n",
    "        if label == Ytest[id]: acc += 1\n",
    "    print(f'Test Accuracy [{acc*100/Xtest.shape[0]}]%')"
   ]
  },
  {
   "cell_type": "markdown",
   "metadata": {},
   "source": [
    "~~1. Implemnet load and save model.~~\n",
    "\n",
    "2. Implement model.eval()\n",
    "\n",
    "3. Implement early stopping."
   ]
  }
 ],
 "metadata": {
  "kernelspec": {
   "display_name": "Python 3",
   "language": "python",
   "name": "python3"
  },
  "language_info": {
   "codemirror_mode": {
    "name": "ipython",
    "version": 3
   },
   "file_extension": ".py",
   "mimetype": "text/x-python",
   "name": "python",
   "nbconvert_exporter": "python",
   "pygments_lexer": "ipython3",
   "version": "3.11.4"
  },
  "orig_nbformat": 4
 },
 "nbformat": 4,
 "nbformat_minor": 2
}
